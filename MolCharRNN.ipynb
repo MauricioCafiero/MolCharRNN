{
 "cells": [
  {
   "cell_type": "markdown",
   "id": "c3c35a0e-c059-424c-abe2-5e2ff41a6d96",
   "metadata": {},
   "source": [
    "# Character RNN for SMILES strings\n",
    "\n",
    "This code builds a Recurrent Neural Network (RNN) model that takes as input a list of SMILES strings \n",
    "and learns the type of chemical structures that it has been fed. It can then generate new molecules with\n",
    "the language it has learned."
   ]
  },
  {
   "cell_type": "markdown",
   "id": "c077b1b1-6f2a-4eaa-9381-b9a0cf413b8d",
   "metadata": {},
   "source": [
    "## Tokenizing\n",
    "\n",
    "This block:\n",
    "\n",
    "- Loads all needed modules/libraries\n",
    "    \n",
    "- reads in the datafile containing the SMILES strings\n",
    "    \n",
    "* initiates the SMILES tokenizer from the DeepChem library\n",
    "    \n",
    "* determines the vocabulary size (see bottom block for customizing vocabulary)\n",
    "    \n",
    "* determines the longest SMILES chain, and then pads all shorter chains so that \n",
    "    we get uniform length\n",
    "    \n",
    "* makes input/target pairs that are each SMILES chain without the last character paired with\n",
    "the full chain missing the last character.\n",
    "    \n",
    "* creates the datasets from the pairs"
   ]
  },
  {
   "cell_type": "code",
   "execution_count": 116,
   "id": "3a76e239-bd0e-4783-9c3e-7eb5ca48caa4",
   "metadata": {},
   "outputs": [
    {
     "name": "stdout",
     "output_type": "stream",
     "text": [
      "105 9\n",
      "Vocabulary size for this dataset:  74\n",
      "{0, 2, 3, 4, 5, 6, 7, 8, 9, 10, 11, 12, 13, 14, 15, 16, 17, 18, 19, 20, 21, 22, 23, 24, 25, 26, 27, 28, 29, 30, 31, 32, 33, 34, 35, 36, 37, 38, 39, 40, 41, 42, 43, 44, 45, 46, 47, 48, 49, 50, 51, 52, 53, 54, 55, 56, 57, 58, 59, 60, 61, 62, 63, 64, 65, 66, 67, 68, 69, 70, 71, 72, 73}\n",
      "Number of features and datapoints, targets:  (6731, 104) (6731, 104)\n",
      "featurization done with:  SMILES Tokenizer\n"
     ]
    }
   ],
   "source": [
    "import tensorflow as tf\n",
    "import numpy as np\n",
    "import pandas as pd \n",
    "import deepchem as dc\n",
    "import time\n",
    "import mordred\n",
    "import transformers\n",
    "from rdkit import Chem\n",
    "import matplotlib.pyplot as plt\n",
    "from rdkit.Chem import AllChem, Draw\n",
    "from sklearn.model_selection import train_test_split\n",
    "from deepchem.feat.smiles_tokenizer import SmilesTokenizer\n",
    "\n",
    "df = pd.read_csv(\"6731-azo.csv\")\n",
    "\n",
    "Xa = [\"\"]*len(df)\n",
    "w = [\"\"]*len(df)\n",
    "i=0\n",
    "for name in df[\"SMILES\"]:\n",
    "    Xa[i]=name\n",
    "    w[i]=1.0\n",
    "    i += 1\n",
    "Xa = list(Xa)\n",
    "w=list(w)\n",
    "\n",
    "#===========================================================================================\n",
    "#featurize\n",
    "\n",
    "tokenizer=dc.feat.SmilesTokenizer(vocab_file=\"vocab_new.txt\")\n",
    "featname=\"SMILES Tokenizer\"\n",
    "\n",
    "fl = list(map(lambda x: tokenizer.encode(x),Xa))\n",
    "\n",
    "biggest = 1\n",
    "smallest = 200\n",
    "for i in range(len(fl)):\n",
    "    temp = len(fl[i])\n",
    "    if temp > biggest:\n",
    "        biggest = temp\n",
    "    if temp < smallest:\n",
    "        smallest = temp\n",
    "\n",
    "print(biggest, smallest)\n",
    "\n",
    "string_length = smallest - 1\n",
    "max_length = biggest\n",
    "\n",
    "fl2 = list(map(lambda x: tokenizer.add_padding_tokens(x,max_length),fl))\n",
    "\n",
    "fl2set=set()\n",
    "for sublist in fl2:\n",
    "    fl2set.update(sublist)\n",
    "vocab_size = len(fl2set)+1 #add one for unused, original vocab list is 591\n",
    "print(\"Vocabulary size for this dataset: \",vocab_size)\n",
    "print(fl2set)\n",
    "\n",
    "xlist = [0]*len(fl2)\n",
    "ylist = [0]*len(fl2)\n",
    "i=0\n",
    "for i in range(len(fl2)):\n",
    "    xlist[i] = fl2[i][0:max_length-1] #string_length\n",
    "    ylist[i] = fl2[i][1:max_length] #string_length+1\n",
    "    i += 1\n",
    "\n",
    "#print(\"Sample input and target: \")\n",
    "#print(xlist[5], ylist[5])\n",
    "#print(xlist[500], ylist[500])\n",
    "fx = np.array(xlist)\n",
    "fy = np.array(ylist)\n",
    "print(\"Number of features and datapoints, targets: \",fx.shape,fy.shape)\n",
    "f=fx\n",
    "#===========================================================================================\n",
    "print(\"featurization done with: \",featname)\n",
    "\n",
    "# set npp for how many points in the dataset, len(df) for whole dataset\n",
    "nnp=len(df)\n",
    "\n",
    "#set y to target\n",
    "y = fy\n",
    "\n",
    "#set dataset and split\n",
    "\n",
    "dataset = dc.data.NumpyDataset(X=f[:nnp,:], y=y[:nnp,:], ids=Xa[:nnp], w=w[:nnp])"
   ]
  },
  {
   "cell_type": "markdown",
   "id": "81f72104-842b-46ac-9168-87ab70c8d176",
   "metadata": {},
   "source": [
    "## Training the model\n",
    "\n",
    "- This block defines the sequential model and runs the optimization.\n",
    "\n",
    "- saves best checkpoints"
   ]
  },
  {
   "cell_type": "code",
   "execution_count": 117,
   "id": "53776a66-81b7-47de-a716-739b647e456b",
   "metadata": {},
   "outputs": [
    {
     "name": "stdout",
     "output_type": "stream",
     "text": [
      "Epoch 1/50\n",
      "INFO:tensorflow:Assets written to: SMILES_rnn\\assets\n"
     ]
    },
    {
     "name": "stderr",
     "output_type": "stream",
     "text": [
      "INFO:tensorflow:Assets written to: SMILES_rnn\\assets\n"
     ]
    },
    {
     "name": "stdout",
     "output_type": "stream",
     "text": [
      "190/190 - 37s - loss: 1.4312 - accuracy: 0.6582 - val_loss: 1.4778 - val_accuracy: 0.5653 - 37s/epoch - 194ms/step\n",
      "Epoch 2/50\n",
      "INFO:tensorflow:Assets written to: SMILES_rnn\\assets\n"
     ]
    },
    {
     "name": "stderr",
     "output_type": "stream",
     "text": [
      "INFO:tensorflow:Assets written to: SMILES_rnn\\assets\n"
     ]
    },
    {
     "name": "stdout",
     "output_type": "stream",
     "text": [
      "190/190 - 25s - loss: 0.9126 - accuracy: 0.7250 - val_loss: 1.2868 - val_accuracy: 0.6508 - 25s/epoch - 131ms/step\n",
      "Epoch 3/50\n",
      "INFO:tensorflow:Assets written to: SMILES_rnn\\assets\n"
     ]
    },
    {
     "name": "stderr",
     "output_type": "stream",
     "text": [
      "INFO:tensorflow:Assets written to: SMILES_rnn\\assets\n"
     ]
    },
    {
     "name": "stdout",
     "output_type": "stream",
     "text": [
      "190/190 - 24s - loss: 0.7251 - accuracy: 0.7737 - val_loss: 1.2068 - val_accuracy: 0.6775 - 24s/epoch - 126ms/step\n",
      "Epoch 4/50\n",
      "INFO:tensorflow:Assets written to: SMILES_rnn\\assets\n"
     ]
    },
    {
     "name": "stderr",
     "output_type": "stream",
     "text": [
      "INFO:tensorflow:Assets written to: SMILES_rnn\\assets\n"
     ]
    },
    {
     "name": "stdout",
     "output_type": "stream",
     "text": [
      "190/190 - 24s - loss: 0.6207 - accuracy: 0.8099 - val_loss: 1.1843 - val_accuracy: 0.7031 - 24s/epoch - 127ms/step\n",
      "Epoch 5/50\n",
      "INFO:tensorflow:Assets written to: SMILES_rnn\\assets\n"
     ]
    },
    {
     "name": "stderr",
     "output_type": "stream",
     "text": [
      "INFO:tensorflow:Assets written to: SMILES_rnn\\assets\n"
     ]
    },
    {
     "name": "stdout",
     "output_type": "stream",
     "text": [
      "190/190 - 24s - loss: 0.5709 - accuracy: 0.8219 - val_loss: 1.1956 - val_accuracy: 0.7042 - 24s/epoch - 127ms/step\n",
      "Epoch 6/50\n",
      "INFO:tensorflow:Assets written to: SMILES_rnn\\assets\n"
     ]
    },
    {
     "name": "stderr",
     "output_type": "stream",
     "text": [
      "INFO:tensorflow:Assets written to: SMILES_rnn\\assets\n"
     ]
    },
    {
     "name": "stdout",
     "output_type": "stream",
     "text": [
      "190/190 - 26s - loss: 0.5353 - accuracy: 0.8299 - val_loss: 1.2276 - val_accuracy: 0.7043 - 26s/epoch - 139ms/step\n",
      "Epoch 7/50\n",
      "INFO:tensorflow:Assets written to: SMILES_rnn\\assets\n"
     ]
    },
    {
     "name": "stderr",
     "output_type": "stream",
     "text": [
      "INFO:tensorflow:Assets written to: SMILES_rnn\\assets\n"
     ]
    },
    {
     "name": "stdout",
     "output_type": "stream",
     "text": [
      "190/190 - 23s - loss: 0.5065 - accuracy: 0.8380 - val_loss: 1.2451 - val_accuracy: 0.7069 - 23s/epoch - 120ms/step\n",
      "Epoch 8/50\n",
      "190/190 - 26s - loss: 0.4807 - accuracy: 0.8449 - val_loss: 1.2560 - val_accuracy: 0.7002 - 26s/epoch - 136ms/step\n",
      "Epoch 9/50\n",
      "190/190 - 28s - loss: 0.4571 - accuracy: 0.8521 - val_loss: 1.2612 - val_accuracy: 0.7020 - 28s/epoch - 148ms/step\n",
      "Epoch 10/50\n",
      "190/190 - 30s - loss: 0.4370 - accuracy: 0.8579 - val_loss: 1.2792 - val_accuracy: 0.6944 - 30s/epoch - 160ms/step\n",
      "Epoch 11/50\n",
      "190/190 - 27s - loss: 0.4203 - accuracy: 0.8630 - val_loss: 1.2854 - val_accuracy: 0.6981 - 27s/epoch - 144ms/step\n",
      "Epoch 12/50\n",
      "190/190 - 31s - loss: 0.4063 - accuracy: 0.8672 - val_loss: 1.2703 - val_accuracy: 0.6965 - 31s/epoch - 165ms/step\n",
      "Epoch 13/50\n",
      "190/190 - 29s - loss: 0.3944 - accuracy: 0.8710 - val_loss: 1.2789 - val_accuracy: 0.6989 - 29s/epoch - 153ms/step\n",
      "Epoch 14/50\n",
      "190/190 - 31s - loss: 0.3837 - accuracy: 0.8744 - val_loss: 1.2733 - val_accuracy: 0.7008 - 31s/epoch - 163ms/step\n",
      "Epoch 15/50\n",
      "190/190 - 29s - loss: 0.3744 - accuracy: 0.8776 - val_loss: 1.2746 - val_accuracy: 0.7011 - 29s/epoch - 154ms/step\n",
      "Epoch 16/50\n",
      "190/190 - 28s - loss: 0.3664 - accuracy: 0.8796 - val_loss: 1.2878 - val_accuracy: 0.7019 - 28s/epoch - 146ms/step\n",
      "Epoch 17/50\n",
      "INFO:tensorflow:Assets written to: SMILES_rnn\\assets\n"
     ]
    },
    {
     "name": "stderr",
     "output_type": "stream",
     "text": [
      "INFO:tensorflow:Assets written to: SMILES_rnn\\assets\n"
     ]
    },
    {
     "name": "stdout",
     "output_type": "stream",
     "text": [
      "190/190 - 29s - loss: 0.3588 - accuracy: 0.8820 - val_loss: 1.2838 - val_accuracy: 0.7076 - 29s/epoch - 153ms/step\n",
      "Epoch 18/50\n",
      "INFO:tensorflow:Assets written to: SMILES_rnn\\assets\n"
     ]
    },
    {
     "name": "stderr",
     "output_type": "stream",
     "text": [
      "INFO:tensorflow:Assets written to: SMILES_rnn\\assets\n"
     ]
    },
    {
     "name": "stdout",
     "output_type": "stream",
     "text": [
      "190/190 - 31s - loss: 0.3519 - accuracy: 0.8840 - val_loss: 1.2765 - val_accuracy: 0.7084 - 31s/epoch - 162ms/step\n",
      "Epoch 19/50\n",
      "190/190 - 26s - loss: 0.3455 - accuracy: 0.8861 - val_loss: 1.2924 - val_accuracy: 0.7071 - 26s/epoch - 137ms/step\n",
      "Epoch 20/50\n",
      "INFO:tensorflow:Assets written to: SMILES_rnn\\assets\n"
     ]
    },
    {
     "name": "stderr",
     "output_type": "stream",
     "text": [
      "INFO:tensorflow:Assets written to: SMILES_rnn\\assets\n"
     ]
    },
    {
     "name": "stdout",
     "output_type": "stream",
     "text": [
      "190/190 - 35s - loss: 0.3397 - accuracy: 0.8878 - val_loss: 1.2752 - val_accuracy: 0.7085 - 35s/epoch - 185ms/step\n",
      "Epoch 21/50\n",
      "190/190 - 25s - loss: 0.3342 - accuracy: 0.8897 - val_loss: 1.2710 - val_accuracy: 0.7074 - 25s/epoch - 130ms/step\n",
      "Epoch 22/50\n",
      "190/190 - 29s - loss: 0.3292 - accuracy: 0.8913 - val_loss: 1.2940 - val_accuracy: 0.7067 - 29s/epoch - 155ms/step\n",
      "Epoch 23/50\n",
      "190/190 - 31s - loss: 0.3245 - accuracy: 0.8928 - val_loss: 1.3082 - val_accuracy: 0.7061 - 31s/epoch - 163ms/step\n",
      "Epoch 24/50\n",
      "INFO:tensorflow:Assets written to: SMILES_rnn\\assets\n"
     ]
    },
    {
     "name": "stderr",
     "output_type": "stream",
     "text": [
      "INFO:tensorflow:Assets written to: SMILES_rnn\\assets\n"
     ]
    },
    {
     "name": "stdout",
     "output_type": "stream",
     "text": [
      "190/190 - 30s - loss: 0.3202 - accuracy: 0.8940 - val_loss: 1.3036 - val_accuracy: 0.7108 - 30s/epoch - 160ms/step\n",
      "Epoch 25/50\n",
      "INFO:tensorflow:Assets written to: SMILES_rnn\\assets\n"
     ]
    },
    {
     "name": "stderr",
     "output_type": "stream",
     "text": [
      "INFO:tensorflow:Assets written to: SMILES_rnn\\assets\n"
     ]
    },
    {
     "name": "stdout",
     "output_type": "stream",
     "text": [
      "190/190 - 29s - loss: 0.3159 - accuracy: 0.8957 - val_loss: 1.3020 - val_accuracy: 0.7128 - 29s/epoch - 153ms/step\n",
      "Epoch 26/50\n",
      "190/190 - 28s - loss: 0.3122 - accuracy: 0.8966 - val_loss: 1.3071 - val_accuracy: 0.7106 - 28s/epoch - 149ms/step\n",
      "Epoch 27/50\n",
      "INFO:tensorflow:Assets written to: SMILES_rnn\\assets\n"
     ]
    },
    {
     "name": "stderr",
     "output_type": "stream",
     "text": [
      "INFO:tensorflow:Assets written to: SMILES_rnn\\assets\n"
     ]
    },
    {
     "name": "stdout",
     "output_type": "stream",
     "text": [
      "190/190 - 32s - loss: 0.3087 - accuracy: 0.8977 - val_loss: 1.3228 - val_accuracy: 0.7139 - 32s/epoch - 167ms/step\n",
      "Epoch 28/50\n",
      "INFO:tensorflow:Assets written to: SMILES_rnn\\assets\n"
     ]
    },
    {
     "name": "stderr",
     "output_type": "stream",
     "text": [
      "INFO:tensorflow:Assets written to: SMILES_rnn\\assets\n"
     ]
    },
    {
     "name": "stdout",
     "output_type": "stream",
     "text": [
      "190/190 - 31s - loss: 0.3050 - accuracy: 0.8991 - val_loss: 1.3284 - val_accuracy: 0.7175 - 31s/epoch - 161ms/step\n",
      "Epoch 29/50\n",
      "190/190 - 25s - loss: 0.3019 - accuracy: 0.9002 - val_loss: 1.3506 - val_accuracy: 0.7128 - 25s/epoch - 132ms/step\n",
      "Epoch 30/50\n",
      "190/190 - 30s - loss: 0.2988 - accuracy: 0.9011 - val_loss: 1.3679 - val_accuracy: 0.7093 - 30s/epoch - 157ms/step\n",
      "Epoch 31/50\n",
      "190/190 - 31s - loss: 0.2959 - accuracy: 0.9022 - val_loss: 1.3640 - val_accuracy: 0.7123 - 31s/epoch - 162ms/step\n",
      "Epoch 32/50\n",
      "190/190 - 32s - loss: 0.2928 - accuracy: 0.9031 - val_loss: 1.3555 - val_accuracy: 0.7162 - 32s/epoch - 167ms/step\n",
      "Epoch 33/50\n",
      "190/190 - 29s - loss: 0.2903 - accuracy: 0.9040 - val_loss: 1.3969 - val_accuracy: 0.7138 - 29s/epoch - 153ms/step\n",
      "Epoch 34/50\n",
      "190/190 - 31s - loss: 0.2873 - accuracy: 0.9049 - val_loss: 1.4036 - val_accuracy: 0.7141 - 31s/epoch - 163ms/step\n",
      "Epoch 35/50\n",
      "190/190 - 31s - loss: 0.2849 - accuracy: 0.9056 - val_loss: 1.4223 - val_accuracy: 0.7124 - 31s/epoch - 163ms/step\n",
      "Epoch 36/50\n",
      "190/190 - 30s - loss: 0.2823 - accuracy: 0.9067 - val_loss: 1.4121 - val_accuracy: 0.7129 - 30s/epoch - 158ms/step\n",
      "Epoch 37/50\n",
      "190/190 - 28s - loss: 0.2802 - accuracy: 0.9071 - val_loss: 1.4174 - val_accuracy: 0.7104 - 28s/epoch - 145ms/step\n",
      "Epoch 38/50\n",
      "190/190 - 24s - loss: 0.2779 - accuracy: 0.9079 - val_loss: 1.4369 - val_accuracy: 0.7091 - 24s/epoch - 125ms/step\n",
      "Epoch 39/50\n",
      "190/190 - 32s - loss: 0.2756 - accuracy: 0.9086 - val_loss: 1.4350 - val_accuracy: 0.7114 - 32s/epoch - 166ms/step\n",
      "Epoch 40/50\n",
      "190/190 - 31s - loss: 0.2735 - accuracy: 0.9092 - val_loss: 1.4398 - val_accuracy: 0.7144 - 31s/epoch - 164ms/step\n",
      "Epoch 41/50\n",
      "190/190 - 31s - loss: 0.2716 - accuracy: 0.9100 - val_loss: 1.4703 - val_accuracy: 0.7145 - 31s/epoch - 164ms/step\n",
      "Epoch 42/50\n",
      "190/190 - 27s - loss: 0.2695 - accuracy: 0.9105 - val_loss: 1.4801 - val_accuracy: 0.7088 - 27s/epoch - 143ms/step\n",
      "Epoch 43/50\n",
      "190/190 - 32s - loss: 0.2676 - accuracy: 0.9112 - val_loss: 1.4737 - val_accuracy: 0.7165 - 32s/epoch - 167ms/step\n",
      "Epoch 44/50\n",
      "190/190 - 26s - loss: 0.2657 - accuracy: 0.9113 - val_loss: 1.4887 - val_accuracy: 0.7143 - 26s/epoch - 137ms/step\n",
      "Epoch 45/50\n",
      "INFO:tensorflow:Assets written to: SMILES_rnn\\assets\n"
     ]
    },
    {
     "name": "stderr",
     "output_type": "stream",
     "text": [
      "INFO:tensorflow:Assets written to: SMILES_rnn\\assets\n"
     ]
    },
    {
     "name": "stdout",
     "output_type": "stream",
     "text": [
      "190/190 - 35s - loss: 0.2641 - accuracy: 0.9121 - val_loss: 1.4785 - val_accuracy: 0.7196 - 35s/epoch - 182ms/step\n",
      "Epoch 46/50\n",
      "190/190 - 27s - loss: 0.2624 - accuracy: 0.9128 - val_loss: 1.5007 - val_accuracy: 0.7125 - 27s/epoch - 140ms/step\n",
      "Epoch 47/50\n",
      "190/190 - 27s - loss: 0.2607 - accuracy: 0.9134 - val_loss: 1.5037 - val_accuracy: 0.7182 - 27s/epoch - 144ms/step\n",
      "Epoch 48/50\n",
      "190/190 - 28s - loss: 0.2596 - accuracy: 0.9137 - val_loss: 1.5187 - val_accuracy: 0.7101 - 28s/epoch - 149ms/step\n",
      "Epoch 49/50\n",
      "190/190 - 31s - loss: 0.2574 - accuracy: 0.9144 - val_loss: 1.5178 - val_accuracy: 0.7149 - 31s/epoch - 161ms/step\n",
      "Epoch 50/50\n",
      "190/190 - 28s - loss: 0.2557 - accuracy: 0.9148 - val_loss: 1.5572 - val_accuracy: 0.7119 - 28s/epoch - 147ms/step\n"
     ]
    }
   ],
   "source": [
    "charRNN = tf.keras.Sequential([\n",
    "    tf.keras.layers.Embedding(input_dim=vocab_size,output_dim=12),\n",
    "    tf.keras.layers.GRU(128,return_sequences=True),\n",
    "    tf.keras.layers.Dense(vocab_size,activation=\"softmax\")])\n",
    "\n",
    "optimizer = tf.keras.optimizers.Nadam()\n",
    "charRNN.compile(loss=\"sparse_categorical_crossentropy\",optimizer=optimizer, metrics=[\"accuracy\"])\n",
    "model_chkpt = tf.keras.callbacks.ModelCheckpoint(\"SMILES_rnn\",monitor=\"val_accuracy\",save_best_only=True)\n",
    "\n",
    "history = charRNN.fit(dataset.X,dataset.y,epochs=50,verbose=2,validation_split=0.1,callbacks=[model_chkpt])"
   ]
  },
  {
   "cell_type": "markdown",
   "id": "5da41bac-fa01-4d91-8707-93815772b9f0",
   "metadata": {},
   "source": [
    "## Saves the current model to the current folder"
   ]
  },
  {
   "cell_type": "code",
   "execution_count": 118,
   "id": "9c7efe7f-b2a8-4643-a8c1-5216b69b6360",
   "metadata": {},
   "outputs": [
    {
     "name": "stdout",
     "output_type": "stream",
     "text": [
      "INFO:tensorflow:Assets written to: 20Feb_newvocab_embed12\\assets\n"
     ]
    },
    {
     "name": "stderr",
     "output_type": "stream",
     "text": [
      "INFO:tensorflow:Assets written to: 20Feb_newvocab_embed12\\assets\n"
     ]
    },
    {
     "name": "stdout",
     "output_type": "stream",
     "text": [
      "model saved.\n"
     ]
    }
   ],
   "source": [
    "charRNN.save(\"20Feb_newvocab_embed12\",save_format=\"tf\")\n",
    "print(\"model saved.\")"
   ]
  },
  {
   "cell_type": "markdown",
   "id": "df513ade-f5cf-4b03-a053-5d3c1ebe0169",
   "metadata": {},
   "source": [
    "## Restart training on saved model\n",
    "\n",
    "- loads an existing model and restarts training\n",
    "- requires intial epoch (last epoch from previous training) and new epoch limit"
   ]
  },
  {
   "cell_type": "code",
   "execution_count": 119,
   "id": "0fdf2ec9-0301-4b02-bce1-0692e2a7099e",
   "metadata": {},
   "outputs": [
    {
     "name": "stdout",
     "output_type": "stream",
     "text": [
      "Epoch 51/100\n",
      "INFO:tensorflow:Assets written to: SMILES_rnn\\assets\n"
     ]
    },
    {
     "name": "stderr",
     "output_type": "stream",
     "text": [
      "INFO:tensorflow:Assets written to: SMILES_rnn\\assets\n"
     ]
    },
    {
     "name": "stdout",
     "output_type": "stream",
     "text": [
      "190/190 - 42s - loss: 0.2536 - accuracy: 0.9156 - val_loss: 1.5388 - val_accuracy: 0.7122 - 42s/epoch - 222ms/step\n",
      "Epoch 52/100\n",
      "INFO:tensorflow:Assets written to: SMILES_rnn\\assets\n"
     ]
    },
    {
     "name": "stderr",
     "output_type": "stream",
     "text": [
      "INFO:tensorflow:Assets written to: SMILES_rnn\\assets\n"
     ]
    },
    {
     "name": "stdout",
     "output_type": "stream",
     "text": [
      "190/190 - 23s - loss: 0.2525 - accuracy: 0.9159 - val_loss: 1.5423 - val_accuracy: 0.7141 - 23s/epoch - 120ms/step\n",
      "Epoch 53/100\n",
      "190/190 - 20s - loss: 0.2510 - accuracy: 0.9165 - val_loss: 1.5888 - val_accuracy: 0.7127 - 20s/epoch - 104ms/step\n",
      "Epoch 54/100\n",
      "190/190 - 21s - loss: 0.2493 - accuracy: 0.9170 - val_loss: 1.5978 - val_accuracy: 0.7121 - 21s/epoch - 112ms/step\n",
      "Epoch 55/100\n",
      "INFO:tensorflow:Assets written to: SMILES_rnn\\assets\n"
     ]
    },
    {
     "name": "stderr",
     "output_type": "stream",
     "text": [
      "INFO:tensorflow:Assets written to: SMILES_rnn\\assets\n"
     ]
    },
    {
     "name": "stdout",
     "output_type": "stream",
     "text": [
      "190/190 - 36s - loss: 0.2486 - accuracy: 0.9171 - val_loss: 1.6027 - val_accuracy: 0.7144 - 36s/epoch - 187ms/step\n",
      "Epoch 56/100\n",
      "190/190 - 29s - loss: 0.2468 - accuracy: 0.9177 - val_loss: 1.6171 - val_accuracy: 0.7129 - 29s/epoch - 154ms/step\n",
      "Epoch 57/100\n",
      "190/190 - 29s - loss: 0.2459 - accuracy: 0.9180 - val_loss: 1.6342 - val_accuracy: 0.7120 - 29s/epoch - 155ms/step\n",
      "Epoch 58/100\n",
      "190/190 - 33s - loss: 0.2454 - accuracy: 0.9181 - val_loss: 1.6330 - val_accuracy: 0.7140 - 33s/epoch - 173ms/step\n",
      "Epoch 59/100\n",
      "190/190 - 31s - loss: 0.2437 - accuracy: 0.9187 - val_loss: 1.6234 - val_accuracy: 0.7135 - 31s/epoch - 161ms/step\n",
      "Epoch 60/100\n",
      "INFO:tensorflow:Assets written to: SMILES_rnn\\assets\n"
     ]
    },
    {
     "name": "stderr",
     "output_type": "stream",
     "text": [
      "INFO:tensorflow:Assets written to: SMILES_rnn\\assets\n"
     ]
    },
    {
     "name": "stdout",
     "output_type": "stream",
     "text": [
      "190/190 - 36s - loss: 0.2422 - accuracy: 0.9193 - val_loss: 1.6432 - val_accuracy: 0.7152 - 36s/epoch - 190ms/step\n",
      "Epoch 61/100\n",
      "190/190 - 27s - loss: 0.2412 - accuracy: 0.9197 - val_loss: 1.6668 - val_accuracy: 0.7060 - 27s/epoch - 142ms/step\n",
      "Epoch 62/100\n",
      "190/190 - 32s - loss: 0.2397 - accuracy: 0.9200 - val_loss: 1.6640 - val_accuracy: 0.7125 - 32s/epoch - 167ms/step\n",
      "Epoch 63/100\n",
      "190/190 - 33s - loss: 0.2395 - accuracy: 0.9199 - val_loss: 1.6686 - val_accuracy: 0.7134 - 33s/epoch - 176ms/step\n",
      "Epoch 64/100\n",
      "190/190 - 29s - loss: 0.2379 - accuracy: 0.9206 - val_loss: 1.6725 - val_accuracy: 0.7141 - 29s/epoch - 151ms/step\n",
      "Epoch 65/100\n",
      "190/190 - 28s - loss: 0.2364 - accuracy: 0.9212 - val_loss: 1.6865 - val_accuracy: 0.7127 - 28s/epoch - 149ms/step\n",
      "Epoch 66/100\n",
      "190/190 - 31s - loss: 0.2356 - accuracy: 0.9214 - val_loss: 1.6915 - val_accuracy: 0.7135 - 31s/epoch - 162ms/step\n",
      "Epoch 67/100\n",
      "190/190 - 31s - loss: 0.2350 - accuracy: 0.9215 - val_loss: 1.7041 - val_accuracy: 0.7071 - 31s/epoch - 165ms/step\n",
      "Epoch 68/100\n",
      "190/190 - 29s - loss: 0.2338 - accuracy: 0.9217 - val_loss: 1.6932 - val_accuracy: 0.7146 - 29s/epoch - 154ms/step\n",
      "Epoch 69/100\n",
      "190/190 - 30s - loss: 0.2348 - accuracy: 0.9215 - val_loss: 1.7149 - val_accuracy: 0.7090 - 30s/epoch - 156ms/step\n",
      "Epoch 70/100\n",
      "190/190 - 32s - loss: 0.2324 - accuracy: 0.9223 - val_loss: 1.7063 - val_accuracy: 0.7145 - 32s/epoch - 166ms/step\n",
      "Epoch 71/100\n",
      "190/190 - 31s - loss: 0.2308 - accuracy: 0.9227 - val_loss: 1.7342 - val_accuracy: 0.7081 - 31s/epoch - 163ms/step\n",
      "Epoch 72/100\n",
      "190/190 - 30s - loss: 0.2302 - accuracy: 0.9232 - val_loss: 1.7199 - val_accuracy: 0.7137 - 30s/epoch - 158ms/step\n",
      "Epoch 73/100\n",
      "190/190 - 26s - loss: 0.2289 - accuracy: 0.9235 - val_loss: 1.7323 - val_accuracy: 0.7087 - 26s/epoch - 135ms/step\n",
      "Epoch 74/100\n",
      "190/190 - 30s - loss: 0.2279 - accuracy: 0.9237 - val_loss: 1.7322 - val_accuracy: 0.7106 - 30s/epoch - 158ms/step\n",
      "Epoch 75/100\n",
      "190/190 - 31s - loss: 0.2277 - accuracy: 0.9237 - val_loss: 1.7476 - val_accuracy: 0.7122 - 31s/epoch - 164ms/step\n",
      "Epoch 76/100\n",
      "190/190 - 31s - loss: 0.2268 - accuracy: 0.9242 - val_loss: 1.7483 - val_accuracy: 0.7092 - 31s/epoch - 166ms/step\n",
      "Epoch 77/100\n",
      "190/190 - 27s - loss: 0.2261 - accuracy: 0.9241 - val_loss: 1.7629 - val_accuracy: 0.7121 - 27s/epoch - 144ms/step\n",
      "Epoch 78/100\n",
      "190/190 - 32s - loss: 0.2256 - accuracy: 0.9244 - val_loss: 1.7577 - val_accuracy: 0.7106 - 32s/epoch - 170ms/step\n",
      "Epoch 79/100\n",
      "190/190 - 31s - loss: 0.2244 - accuracy: 0.9248 - val_loss: 1.7680 - val_accuracy: 0.7092 - 31s/epoch - 165ms/step\n",
      "Epoch 80/100\n",
      "190/190 - 31s - loss: 0.2239 - accuracy: 0.9250 - val_loss: 1.7755 - val_accuracy: 0.7089 - 31s/epoch - 165ms/step\n",
      "Epoch 81/100\n",
      "190/190 - 27s - loss: 0.2232 - accuracy: 0.9251 - val_loss: 1.7811 - val_accuracy: 0.7079 - 27s/epoch - 142ms/step\n",
      "Epoch 82/100\n",
      "190/190 - 32s - loss: 0.2289 - accuracy: 0.9233 - val_loss: 1.7467 - val_accuracy: 0.7136 - 32s/epoch - 167ms/step\n",
      "Epoch 83/100\n",
      "190/190 - 31s - loss: 0.2233 - accuracy: 0.9253 - val_loss: 1.7984 - val_accuracy: 0.7080 - 31s/epoch - 164ms/step\n",
      "Epoch 84/100\n",
      "190/190 - 31s - loss: 0.2210 - accuracy: 0.9259 - val_loss: 1.8014 - val_accuracy: 0.7070 - 31s/epoch - 163ms/step\n",
      "Epoch 85/100\n",
      "190/190 - 28s - loss: 0.2197 - accuracy: 0.9264 - val_loss: 1.8012 - val_accuracy: 0.7092 - 28s/epoch - 149ms/step\n",
      "Epoch 86/100\n",
      "190/190 - 27s - loss: 0.2193 - accuracy: 0.9265 - val_loss: 1.8002 - val_accuracy: 0.7113 - 27s/epoch - 145ms/step\n",
      "Epoch 87/100\n",
      "190/190 - 23s - loss: 0.2197 - accuracy: 0.9262 - val_loss: 1.8178 - val_accuracy: 0.7062 - 23s/epoch - 120ms/step\n",
      "Epoch 88/100\n",
      "190/190 - 23s - loss: 0.2180 - accuracy: 0.9270 - val_loss: 1.8102 - val_accuracy: 0.7062 - 23s/epoch - 119ms/step\n",
      "Epoch 89/100\n",
      "190/190 - 22s - loss: 0.2170 - accuracy: 0.9272 - val_loss: 1.8195 - val_accuracy: 0.7077 - 22s/epoch - 114ms/step\n",
      "Epoch 90/100\n",
      "190/190 - 28s - loss: 0.2179 - accuracy: 0.9269 - val_loss: 1.8173 - val_accuracy: 0.7084 - 28s/epoch - 148ms/step\n",
      "Epoch 91/100\n",
      "190/190 - 25s - loss: 0.2165 - accuracy: 0.9275 - val_loss: 1.8357 - val_accuracy: 0.7097 - 25s/epoch - 129ms/step\n",
      "Epoch 92/100\n",
      "190/190 - 26s - loss: 0.2165 - accuracy: 0.9274 - val_loss: 1.8398 - val_accuracy: 0.7048 - 26s/epoch - 138ms/step\n",
      "Epoch 93/100\n",
      "190/190 - 27s - loss: 0.2152 - accuracy: 0.9278 - val_loss: 1.8579 - val_accuracy: 0.7099 - 27s/epoch - 140ms/step\n",
      "Epoch 94/100\n",
      "190/190 - 22s - loss: 0.2147 - accuracy: 0.9279 - val_loss: 1.8601 - val_accuracy: 0.7096 - 22s/epoch - 116ms/step\n",
      "Epoch 95/100\n",
      "190/190 - 21s - loss: 0.2139 - accuracy: 0.9281 - val_loss: 1.8468 - val_accuracy: 0.7073 - 21s/epoch - 108ms/step\n",
      "Epoch 96/100\n",
      "190/190 - 25s - loss: 0.2138 - accuracy: 0.9281 - val_loss: 1.8632 - val_accuracy: 0.7103 - 25s/epoch - 133ms/step\n",
      "Epoch 97/100\n",
      "190/190 - 22s - loss: 0.2134 - accuracy: 0.9283 - val_loss: 1.8578 - val_accuracy: 0.7124 - 22s/epoch - 118ms/step\n",
      "Epoch 98/100\n",
      "190/190 - 22s - loss: 0.2128 - accuracy: 0.9284 - val_loss: 1.8741 - val_accuracy: 0.7037 - 22s/epoch - 114ms/step\n",
      "Epoch 99/100\n",
      "190/190 - 24s - loss: 0.2120 - accuracy: 0.9287 - val_loss: 1.8721 - val_accuracy: 0.7099 - 24s/epoch - 125ms/step\n",
      "Epoch 100/100\n",
      "190/190 - 30s - loss: 0.2114 - accuracy: 0.9290 - val_loss: 1.9047 - val_accuracy: 0.7053 - 30s/epoch - 160ms/step\n"
     ]
    }
   ],
   "source": [
    "charRNN = tf.keras.models.load_model(\"20Feb_newvocab_embed12\")\n",
    "\n",
    "optimizer = tf.keras.optimizers.Nadam()\n",
    "charRNN.compile(loss=\"sparse_categorical_crossentropy\",optimizer=optimizer, metrics=[\"accuracy\"])\n",
    "model_chkpt = tf.keras.callbacks.ModelCheckpoint(\"SMILES_rnn\",monitor=\"val_accuracy\",save_best_only=True)\n",
    "\n",
    "history = charRNN.fit(dataset.X,dataset.y,epochs=100,initial_epoch=50,verbose=2,validation_split=0.1,callbacks=[model_chkpt])"
   ]
  },
  {
   "cell_type": "markdown",
   "id": "872cdbb7-4e41-4489-82ec-e6e3ea01b66e",
   "metadata": {},
   "source": [
    "## Standard molecule prediction\n",
    "\n",
    "This block\n",
    "\n",
    "- Takes two strings from the training set (5 and 6 in this case) to use as \"seeds\"\n",
    "\n",
    "- Tokenizes the strings\n",
    "- Makes the input for the predictor by making 2 inputs with **string_length** characters (string_length\n",
    "is the length of the shortest string in the input. Can be set to any number)\n",
    "- predictes a new character with the model (the most probable character) and then adds that to the input string,\n",
    "so that the input is one character longer.\n",
    "- uses the new input to predict the next chacacter, etc."
   ]
  },
  {
   "cell_type": "code",
   "execution_count": 29,
   "id": "d355fda8-9433-490b-99f2-df42b343614b",
   "metadata": {
    "scrolled": true
   },
   "outputs": [
    {
     "name": "stdout",
     "output_type": "stream",
     "text": [
      "test array:  [[12 16 23 20 16 16 23 17]\n",
      " [12 19 16 33 20 19 35 17]]\n",
      "1/1 [==============================] - 0s 408ms/step\n",
      "1/1 [==============================] - 0s 378ms/step\n",
      "1/1 [==============================] - 0s 44ms/step\n",
      "1/1 [==============================] - 0s 31ms/step\n",
      "1/1 [==============================] - 0s 30ms/step\n",
      "1/1 [==============================] - 0s 36ms/step\n",
      "1/1 [==============================] - 0s 24ms/step\n",
      "1/1 [==============================] - 0s 29ms/step\n",
      "1/1 [==============================] - 0s 33ms/step\n",
      "1/1 [==============================] - 0s 38ms/step\n",
      "1/1 [==============================] - 0s 31ms/step\n",
      "1/1 [==============================] - 0s 57ms/step\n",
      "1/1 [==============================] - 0s 78ms/step\n",
      "1/1 [==============================] - 0s 29ms/step\n",
      "1/1 [==============================] - 0s 44ms/step\n",
      "1/1 [==============================] - 0s 44ms/step\n",
      "1/1 [==============================] - 0s 63ms/step\n",
      "1/1 [==============================] - 0s 61ms/step\n",
      "1/1 [==============================] - 0s 29ms/step\n",
      "1/1 [==============================] - 0s 27ms/step\n",
      "1/1 [==============================] - 0s 42ms/step\n",
      "1/1 [==============================] - 0s 44ms/step\n",
      "1/1 [==============================] - 0s 53ms/step\n",
      "1/1 [==============================] - 0s 69ms/step\n",
      "1/1 [==============================] - 0s 50ms/step\n",
      "1/1 [==============================] - 0s 57ms/step\n",
      "1/1 [==============================] - 0s 65ms/step\n",
      "1/1 [==============================] - 0s 39ms/step\n",
      "1/1 [==============================] - 0s 34ms/step\n",
      "New molecules: [CLS]CN1CCN(CC1)c1ccc(cc1)c1ccc(cc1)c1ccc \n",
      " [CLS]OC[C@H]1O[C@@H]([C@@H]([C@@H]1O)O)OC(=O)c1ccccc1[SEP][PAD][PAD][PAD][PAD][PAD][PAD].\n",
      "\n"
     ]
    }
   ],
   "source": [
    "charRNN = tf.keras.models.load_model(\"20Feb_newvocab\")\n",
    "\n",
    "test_string=[\"\"]*2\n",
    "test_xlist=[0.0]*2\n",
    "\n",
    "test_string[0] = \"CN1CCN(CC1)c1c(F)cc2c3c1OCC(n3cc(c2=O)C(=O)O)C\"\n",
    "test_string[1] = \"OC[C@H]1O[C@@H](N=C=C2CC(=O)c3c4c2nc2cc(Cl)ccc2c4ncc3)[C@@H]([C@H]([C@@H]1O)O)O\"\n",
    "\n",
    "test_tokenized = list(map(lambda x: tokenizer.encode(x),test_string))\n",
    "i=0\n",
    "for i in range(len(test_tokenized)):\n",
    "    test_xlist[i] = test_tokenized[i][0:string_length]\n",
    "    i += 1\n",
    "\n",
    "test_array = np.array(test_xlist)\n",
    "\n",
    "print(\"test array: \",test_array)\n",
    "\n",
    "for i in range(1,30,1):\n",
    "    results = charRNN.predict(test_array)\n",
    "    first_proba = results[0,-1]\n",
    "    second_proba = results[1,-1]\n",
    "    first_pred = tf.argmax(first_proba)\n",
    "    second_pred = tf.argmax(second_proba)\n",
    "    test_xlist[0].append(int(first_pred))\n",
    "    test_xlist[1].append(int(second_pred))\n",
    "    test_array = np.array(test_xlist)\n",
    "\n",
    "new_molecule = tokenizer.decode(test_xlist[0])\n",
    "new_molecule2 = tokenizer.decode(test_xlist[1])\n",
    "nm1 = tokenizer.convert_tokens_to_string(new_molecule).replace(\" \",\"\")\n",
    "nm2 = tokenizer.convert_tokens_to_string(new_molecule2).replace(\" \",\"\")\n",
    "\n",
    "print(f\"New molecules: {nm1} \\n {nm2}.\")\n",
    "print(\"\")"
   ]
  },
  {
   "cell_type": "markdown",
   "id": "e0ab4a27-8006-4bd3-a450-4fc9a70a1b14",
   "metadata": {},
   "source": [
    "## Temperature-based molecule prediction\n",
    "\n",
    "This block\n",
    "\n",
    "- Sets a temperature, which defines how \"probable\" the next character added to the molecule will be.\n",
    "- A higher temperature means the next character is less probable.\n",
    "- Takes two strings from the training set (5 and 6 in this case) to use as \"seeds\"\n",
    "- Tokenizes the strings\n",
    "- Makes the input for the predictor by making 2 inputs with **string_length** characters (string_length\n",
    "is the length of the shortest string in the input. Can be set to any number)\n",
    "- predictes a new character with the model (based on the temperature) and then adds that to the input string,\n",
    "so that the input is one character longer.\n",
    "- uses the new input to predict the next character, etc."
   ]
  },
  {
   "cell_type": "code",
   "execution_count": 150,
   "id": "8d372751-f75a-41c4-8a69-439669b8b2e9",
   "metadata": {
    "scrolled": true
   },
   "outputs": [
    {
     "name": "stdout",
     "output_type": "stream",
     "text": [
      "test array:  [[ 3  6 13 10  6  6 13  7]\n",
      " [ 3 18  5 10 15 15  5  7]]\n",
      "1/1 [==============================] - 0s 458ms/step\n",
      "1/1 [==============================] - 0s 429ms/step\n",
      "1/1 [==============================] - 0s 35ms/step\n",
      "1/1 [==============================] - 0s 51ms/step\n",
      "1/1 [==============================] - 0s 28ms/step\n",
      "1/1 [==============================] - 0s 68ms/step\n",
      "1/1 [==============================] - 0s 57ms/step\n",
      "1/1 [==============================] - 0s 29ms/step\n",
      "1/1 [==============================] - 0s 26ms/step\n",
      "1/1 [==============================] - 0s 38ms/step\n",
      "1/1 [==============================] - 0s 65ms/step\n",
      "1/1 [==============================] - 0s 33ms/step\n",
      "1/1 [==============================] - 0s 47ms/step\n",
      "1/1 [==============================] - 0s 22ms/step\n",
      "1/1 [==============================] - 0s 65ms/step\n",
      "1/1 [==============================] - 0s 62ms/step\n",
      "1/1 [==============================] - 0s 39ms/step\n",
      "1/1 [==============================] - 0s 55ms/step\n",
      "1/1 [==============================] - 0s 52ms/step\n",
      "1/1 [==============================] - 0s 68ms/step\n",
      "1/1 [==============================] - 0s 66ms/step\n",
      "1/1 [==============================] - 0s 63ms/step\n",
      "1/1 [==============================] - 0s 44ms/step\n",
      "1/1 [==============================] - 0s 25ms/step\n",
      "1/1 [==============================] - 0s 33ms/step\n",
      "1/1 [==============================] - 0s 65ms/step\n",
      "1/1 [==============================] - 0s 49ms/step\n",
      "1/1 [==============================] - 0s 41ms/step\n",
      "1/1 [==============================] - 0s 72ms/step\n",
      "1/1 [==============================] - 0s 55ms/step\n",
      "1/1 [==============================] - 0s 38ms/step\n",
      "1/1 [==============================] - 0s 19ms/step\n",
      "1/1 [==============================] - 0s 33ms/step\n",
      "1/1 [==============================] - 0s 31ms/step\n",
      "1/1 [==============================] - 0s 36ms/step\n",
      "1/1 [==============================] - 0s 47ms/step\n",
      "1/1 [==============================] - 0s 60ms/step\n",
      "1/1 [==============================] - 0s 34ms/step\n",
      "1/1 [==============================] - 0s 50ms/step\n",
      "1/1 [==============================] - 0s 32ms/step\n",
      "1/1 [==============================] - 0s 39ms/step\n",
      "1/1 [==============================] - 0s 33ms/step\n",
      "1/1 [==============================] - 0s 27ms/step\n",
      "1/1 [==============================] - 0s 26ms/step\n",
      "1/1 [==============================] - 0s 32ms/step\n",
      "1/1 [==============================] - 0s 51ms/step\n",
      "1/1 [==============================] - 0s 69ms/step\n",
      "1/1 [==============================] - 0s 34ms/step\n",
      "1/1 [==============================] - 0s 36ms/step\n",
      "1/1 [==============================] - 0s 34ms/step\n",
      "1/1 [==============================] - 0s 40ms/step\n",
      "1/1 [==============================] - 0s 47ms/step\n",
      "1/1 [==============================] - 0s 36ms/step\n",
      "1/1 [==============================] - 0s 63ms/step\n",
      "1/1 [==============================] - 0s 54ms/step\n",
      "1/1 [==============================] - 0s 40ms/step\n",
      "1/1 [==============================] - 0s 69ms/step\n",
      "1/1 [==============================] - 0s 66ms/step\n",
      "1/1 [==============================] - 0s 69ms/step\n",
      "1/1 [==============================] - 0s 26ms/step\n",
      "1/1 [==============================] - 0s 64ms/step\n",
      "1/1 [==============================] - 0s 41ms/step\n",
      "1/1 [==============================] - 0s 54ms/step\n",
      "1/1 [==============================] - 0s 48ms/step\n",
      "1/1 [==============================] - 0s 69ms/step\n",
      "1/1 [==============================] - 0s 68ms/step\n",
      "1/1 [==============================] - 0s 47ms/step\n",
      "1/1 [==============================] - 0s 37ms/step\n",
      "1/1 [==============================] - 0s 44ms/step\n",
      "1/1 [==============================] - 0s 51ms/step\n",
      "1/1 [==============================] - 0s 58ms/step\n",
      "1/1 [==============================] - 0s 75ms/step\n",
      "1/1 [==============================] - 0s 51ms/step\n",
      "1/1 [==============================] - 0s 62ms/step\n",
      "1/1 [==============================] - 0s 37ms/step\n",
      "1/1 [==============================] - 0s 47ms/step\n",
      "1/1 [==============================] - 0s 58ms/step\n",
      "1/1 [==============================] - 0s 35ms/step\n",
      "1/1 [==============================] - 0s 53ms/step\n",
      "New molecules: [CLS]CN1CCN(C)C(=O)N1Cc1ccccc1[SEP][PAD][PAD][PAD][PAD][PAD][PAD][PAD][PAD][PAD][PAD][PAD][PAD][PAD][PAD][PAD][PAD][PAD][PAD][PAD][PAD][PAD][PAD][PAD][PAD][PAD][PAD][PAD][PAD][PAD][PAD][PAD][PAD][PAD][PAD][PAD][PAD][PAD][PAD][PAD][PAD][PAD][PAD][PAD][PAD][PAD][PAD][PAD][PAD][PAD][PAD][PAD][PAD][PAD][PAD][PAD][PAD][PAD][PAD][PAD][PAD] \n",
      " [CLS]Clc1nnc(n1C)c1c2cccnc2c2c1ccc(c2)Cl[SEP][PAD][PAD][PAD][PAD][PAD][PAD][PAD][PAD][PAD][PAD][PAD][PAD][PAD][PAD][PAD][PAD][PAD][PAD][PAD][PAD][PAD][PAD][PAD][PAD][PAD][PAD][PAD][PAD][PAD][PAD][PAD][PAD][PAD][PAD][PAD][PAD][PAD][PAD][PAD][PAD][PAD][PAD][PAD][PAD][PAD][PAD][PAD][PAD][PAD][PAD][PAD][PAD].\n",
      "\n"
     ]
    }
   ],
   "source": [
    "charRNN = tf.keras.models.load_model(\"20Feb_newvocab_embed12\")\n",
    "\n",
    "temp = 0.9\n",
    "tf.random.set_seed(42)\n",
    "\n",
    "test_string=[\"\"]*2\n",
    "test_xlist=[0.0]*2\n",
    "\n",
    "test_string[0] = \"CN1CCN(CC1)c1c(F)cc2c3c1OCC(n3cc(c2=O)C(=O)O)C\"\n",
    "test_string[1] = \"Clc1nnc(c(c1)N1CCN(CC1)CCOc1ccc(cc1)n1cnnc1)Cl\"\n",
    "\n",
    "test_tokenized = list(map(lambda x: tokenizer.encode(x),test_string))\n",
    "i=0\n",
    "for i in range(len(test_tokenized)):\n",
    "    test_xlist[i] = test_tokenized[i][0:string_length]\n",
    "    i += 1\n",
    "\n",
    "test_array = np.array(test_xlist)\n",
    "print(\"test array: \",test_array)\n",
    "\n",
    "for i in range(1,80,1):\n",
    "    results = charRNN.predict(test_array)\n",
    "    first_proba = results[0,-1:]\n",
    "    second_proba = results[1,-1:]\n",
    "    first_rescaled_logits = tf.math.log(first_proba) / temp\n",
    "    second_rescaled_logits = tf.math.log(second_proba) / temp\n",
    "    first_pred = tf.random.categorical(first_rescaled_logits,num_samples=1)[0,0]\n",
    "    second_pred = tf.random.categorical(second_rescaled_logits,num_samples=1)[0,0]\n",
    "    test_xlist[0].append(int(first_pred))\n",
    "    test_xlist[1].append(int(second_pred))\n",
    "    test_array = np.array(test_xlist)\n",
    "\n",
    "new_molecule = tokenizer.decode(test_xlist[0])\n",
    "new_molecule2 = tokenizer.decode(test_xlist[1])\n",
    "nm1 = tokenizer.convert_tokens_to_string(new_molecule).replace(\" \",\"\")\n",
    "nm2 = tokenizer.convert_tokens_to_string(new_molecule2).replace(\" \",\"\")\n",
    "\n",
    "print(f\"New molecules: {nm1} \\n {nm2}.\")\n",
    "print(\"\")"
   ]
  },
  {
   "cell_type": "markdown",
   "id": "a1f06746-560b-4d39-befc-348734c47243",
   "metadata": {},
   "source": [
    "## Draw the molecules generated\n",
    "\n",
    "- Molecules generated in the block above can be visualized here.\n",
    "- Molecules start after th [CLS] token, and go until the [SEP] or [PAD] token."
   ]
  },
  {
   "cell_type": "code",
   "execution_count": 151,
   "id": "94401e6a-4380-4a34-8d74-53e1be2ff45c",
   "metadata": {},
   "outputs": [
    {
     "name": "stderr",
     "output_type": "stream",
     "text": [
      "[15:22:28] Can't kekulize mol.  Unkekulized atoms: 7 8 9 10 11 12 13 14 15 16 17 18 19\n"
     ]
    },
    {
     "data": {
      "image/png": "[encoded data removed]",
      "text/plain": [
       "<IPython.core.display.Image object>"
      ]
     },
     "execution_count": 151,
     "metadata": {},
     "output_type": "execute_result"
    }
   ],
   "source": [
    "#originals\n",
    "m1o=Chem.MolFromSmiles(\"CN1CCN(CC1)c1c(F)cc2c3c1OCC(n3cc(c2=O)C(=O)O)C\")\n",
    "m2o=Chem.MolFromSmiles(\"Clc1nnc(c(c1)N1CCN(CC1)CCOc1ccc(cc1)n1cnnc1)Cl\")\n",
    "#T = 0.1\n",
    "m1=Chem.MolFromSmiles(\"CN1CCN(CC1)c1ccc(cc1)c1nc2c([nH]1)cc(cc2)[N+](=O)[O-]\")\n",
    "m2=Chem.MolFromSmiles(\"Clc1nnc(c(c1)C=Nc1ccccc1)N=Nc1ccc(cc1)C(=O)O\")\n",
    "#T = 0.5\n",
    "m1t=Chem.MolFromSmiles(\"CN1CCN(CC1)c1ccc2c(c1)cc(c(c2)C)c1ccc(cc1)C\")\n",
    "m2t=Chem.MolFromSmiles(\"Clc1nnc(n1C)c1ccc2c(c1)c1ccccc1c1c2cccn1\")\n",
    "#T = 0.7\n",
    "m1t2=Chem.MolFromSmiles(\"CN1CCN(CC1)c1ccc2c(c1)cc1c(n2)cccc1\")\n",
    "m2t2=Chem.MolFromSmiles(\"Clc1nnc(n1C)c1ccc2c3c1ccc1c3c(cc2)ccc1\")\n",
    "#T = 1.1\n",
    "m1t3=Chem.MolFromSmiles(\"CN1CCN(C)C(=O)N1Cc1ccccc1\")\n",
    "m2t3=Chem.MolFromSmiles(\"Clc1nnc(n1C)c1c2cccnc2c2c1ccc(c2)Cl\")\n",
    "\n",
    "leglist = [\"Molecule 1 original\",\"T=0.1\",\"T=0.5\",\"T=0.7\",\"T=1.1\",\"Molecule 2 original\",\"T=0.1\",\"T=0.5\",\"T=0.7\",\"T=1.1\"]\n",
    "\n",
    "Draw.MolsToGridImage([m1o,m1,m1t,m1t2,m1t3,m2o,m2,m2t,m2t2,m2t3],molsPerRow=5,legends=leglist)"
   ]
  },
  {
   "cell_type": "markdown",
   "id": "3f3c5279-9bdf-470e-8cb5-cf2469d1d5a4",
   "metadata": {},
   "source": [
    "## Create specific vocab list\n",
    "\n",
    "- First block must be run before using this block. Then swap out the old vocab file for the new one and rerun\n",
    "first block.\n",
    "- reads in original vocab list\n",
    "- uses the fl2set from the first block: this is a set with all unique tokens used in this model\n",
    "- if a token is used, it is added to the new vocab list\n",
    "- Note: [unused] must be added after [PAD] if it is not included"
   ]
  },
  {
   "cell_type": "code",
   "execution_count": 108,
   "id": "d8171361-51d9-4959-88ab-6a5abceddb95",
   "metadata": {},
   "outputs": [
    {
     "name": "stdout",
     "output_type": "stream",
     "text": [
      "[PAD]\n",
      "\n",
      "[UNK]\n",
      "\n",
      "[CLS]\n",
      "\n",
      "[SEP]\n",
      "\n",
      "c\n",
      "\n",
      "C\n",
      "\n",
      "(\n",
      "\n",
      ")\n",
      "\n",
      "O\n",
      "\n",
      "1\n",
      "\n",
      "2\n",
      "\n",
      "=\n",
      "\n",
      "N\n",
      "\n",
      ".\n",
      "\n",
      "n\n",
      "\n",
      "3\n",
      "\n",
      "F\n",
      "\n",
      "Cl\n",
      "\n",
      "4\n",
      "\n",
      "[C@H]\n",
      "\n",
      "S\n",
      "\n",
      "[C@@H]\n",
      "\n",
      "[O-]\n",
      "\n",
      "Br\n",
      "\n",
      "#\n",
      "\n",
      "/\n",
      "\n",
      "[nH]\n",
      "\n",
      "[N+]\n",
      "\n",
      "s\n",
      "\n",
      "5\n",
      "\n",
      "o\n",
      "\n",
      "P\n",
      "\n",
      "[Si]\n",
      "\n",
      "I\n",
      "\n",
      "B\n",
      "\n",
      "[C@]\n",
      "\n",
      "[C@@]\n",
      "\n",
      "6\n",
      "\n",
      "\\\n",
      "\n",
      "[N-]\n",
      "\n",
      "[H]\n",
      "\n",
      "[2H]\n",
      "\n",
      "[O+]\n",
      "\n",
      "7\n",
      "\n",
      "[n+]\n",
      "\n",
      "[C-]\n",
      "\n",
      "[B-]\n",
      "\n",
      "[SiH]\n",
      "\n",
      "8\n",
      "\n",
      "[S@]\n",
      "\n",
      "[S@@]\n",
      "\n",
      "[NH+]\n",
      "\n",
      "9\n",
      "\n",
      "[SiH2]\n",
      "\n",
      "%10\n",
      "\n",
      "[n-]\n",
      "\n",
      "%11\n",
      "\n",
      "[N]\n",
      "\n",
      "%12\n",
      "\n",
      "[o+]\n",
      "\n",
      "%13\n",
      "\n",
      "[3H]\n",
      "\n",
      "%14\n",
      "\n",
      "%15\n",
      "\n",
      "%16\n",
      "\n",
      "%17\n",
      "\n",
      "%18\n",
      "\n",
      "%19\n",
      "\n",
      "%20\n",
      "\n",
      "%21\n",
      "\n",
      "%22\n",
      "\n",
      "%23\n",
      "\n",
      "%24\n",
      "\n"
     ]
    }
   ],
   "source": [
    "#routine to create a smaller vocab_file based on the dataset using fl2set\n",
    "oldvocab = open(\"vocab.txt\",\"r\")\n",
    "oldvocab_lines = oldvocab.readlines()\n",
    "oldvocab.close()\n",
    "\n",
    "newvocab = open(\"vocab_new.txt\",\"w\",newline=\"\\n\")\n",
    "\n",
    "for i in range(len(oldvocab_lines)):\n",
    "    if i in fl2set:\n",
    "        print(oldvocab_lines[i])\n",
    "        newvocab.write(oldvocab_lines[i])\n",
    "\n",
    "newvocab.close()"
   ]
  }
 ],
 "metadata": {
  "kernelspec": {
   "display_name": "Python 3 (ipykernel)",
   "language": "python",
   "name": "python3"
  },
  "language_info": {
   "codemirror_mode": {
    "name": "ipython",
    "version": 3
   },
   "file_extension": ".py",
   "mimetype": "text/x-python",
   "name": "python",
   "nbconvert_exporter": "python",
   "pygments_lexer": "ipython3",
   "version": "3.10.13"
  }
 },
 "nbformat": 4,
 "nbformat_minor": 5
}
